{
 "cells": [
  {
   "cell_type": "code",
   "execution_count": 42,
   "metadata": {
    "dotnet_interactive": {
     "language": "csharp"
    },
    "polyglot_notebook": {
     "kernelName": "csharp"
    }
   },
   "outputs": [],
   "source": [
    "from pathlib import Path\n",
    "\n",
    "import cppyy"
   ]
  },
  {
   "cell_type": "code",
   "execution_count": 43,
   "metadata": {},
   "outputs": [
    {
     "data": {
      "text/plain": [
       "True"
      ]
     },
     "execution_count": 43,
     "metadata": {},
     "output_type": "execute_result"
    }
   ],
   "source": [
    "# include syth library\n",
    "cppyy.load_library(\"/home/braden/syth/build/libsyTH_share.so\")\n",
    "\n",
    "# include header file \n",
    "cppyy.include(\"/home/braden/syth/syTH/src/SolidMesh.h\")"
   ]
  },
  {
   "cell_type": "code",
   "execution_count": 44,
   "metadata": {},
   "outputs": [],
   "source": [
    "# call package first\n",
    "cppyy.gbl.syth.SolidMesh\n",
    "\n",
    "# then we can import\n",
    "# we can do cppyy.gbl.syth.SolidMesh every time instead of importing\n",
    "SolidMesh = cppyy.gbl.syth.SolidMesh\n",
    "\n",
    "# all of the above could probably doesn't have to be done in every file if you get fancy\n",
    "# I'd see if you could make a python module that does all of this and then import that module\n",
    "# could do https://cppyy.readthedocs.io/en/latest/python.html#doc-strings"
   ]
  },
  {
   "cell_type": "code",
   "execution_count": 45,
   "metadata": {},
   "outputs": [
    {
     "data": {
      "text/plain": [
       "<class cppyy.gbl.syth.SolidMesh at 0x56539263fb60>"
      ]
     },
     "execution_count": 45,
     "metadata": {},
     "output_type": "execute_result"
    }
   ],
   "source": [
    "# and now it works!\n",
    "SolidMesh"
   ]
  },
  {
   "cell_type": "code",
   "execution_count": 46,
   "metadata": {},
   "outputs": [],
   "source": [
    "# emulating test_SolidMesh.cpp\n",
    "solid_mesh_1 = SolidMesh()\n",
    "assert (solid_mesh_1.getNCell()==0)\n",
    "assert (solid_mesh_1.getMaxNeigh()==0)"
   ]
  },
  {
   "cell_type": "code",
   "execution_count": 47,
   "metadata": {},
   "outputs": [],
   "source": [
    "solid_mesh_2 = SolidMesh(2, 3)\n",
    "assert solid_mesh_2.getNCell() == 2\n",
    "assert solid_mesh_2.getMaxNeigh() == 3\n",
    "\n",
    "nlist = [[n for n in range(i * 3, i * 3 + 3)] for i in range(2)]\n",
    "solid_mesh_2.setNeighList(nlist)\n",
    "nlist_out = solid_mesh_2.getNeighList()\n",
    "for i in range(2):\n",
    "    for j in range(3):\n",
    "        assert nlist[i][j] == nlist_out[i][j]"
   ]
  },
  {
   "cell_type": "code",
   "execution_count": 48,
   "metadata": {},
   "outputs": [],
   "source": [
    "hdf5_example_file_name = \"/home/braden/syth/syTH/unit_tests/testSolidMesh/hdf5_reference.h5\"\n",
    "solid_mesh_3 = SolidMesh(hdf5_example_file_name, \"mesh/solid_mesh/\")\n",
    "\n",
    "assert solid_mesh_3.getNCell() == 210\n",
    "assert solid_mesh_3.getMaxNeigh() == 5\n",
    "nlist = solid_mesh_3.getNeighList()\n",
    "assert all([nlist[0][i] == value  for i, value in enumerate([-1,1,6,42,-3 ])])\n",
    "\n",
    "def test_near(x,y,eps=1e-5):\n",
    "    return abs(x-y)<eps\n",
    "\n",
    "assert test_near(solid_mesh_3.getFaceArea(0,0), 0.57735)\n",
    "assert test_near(solid_mesh_3.getFaceArea(0,3), 0.14434)\n",
    "assert test_near(solid_mesh_3.getFaceArea(1,0), 0.57735)\n",
    "assert test_near(solid_mesh_3.getFaceArea(1,3), 0.14434)\n",
    "\n",
    "assert test_near(solid_mesh_3.getVolume(0), 0.14434)\n",
    "assert test_near(solid_mesh_3.getVolume(1), 0.14434)\n",
    "assert test_near(solid_mesh_3.getVolume(2), 0.14434)"
   ]
  },
  {
   "cell_type": "code",
   "execution_count": 49,
   "metadata": {},
   "outputs": [],
   "source": [
    "dp = cppyy.ctypes.c_double()\n",
    "dx = cppyy.ctypes.c_double()\n",
    "\n",
    "solid_mesh_3.getDistance2Face(0, 0, dp, dx)\n",
    "assert test_near(dp.value, 0.16667)\n",
    "assert test_near(dx.value, 0.0)\n",
    "\n",
    "solid_mesh_3.getDistance2Face(0, 1, dp, dx)\n",
    "assert test_near(dp.value, 0.16667)\n",
    "assert test_near(dx.value, 0.16667)\n",
    "\n",
    "solid_mesh_3.getDistance2Face(0, 3, dp, dx)\n",
    "assert test_near(dp.value, 0.5)\n",
    "assert test_near(dx.value, 0.5)\n",
    "\n",
    "solid_mesh_3.getDistance2Face(0, 4, dp, dx)\n",
    "assert test_near(dp.value, 0.5)\n",
    "assert test_near(dx.value, 0)"
   ]
  },
  {
   "cell_type": "code",
   "execution_count": 50,
   "metadata": {},
   "outputs": [],
   "source": [
    "# DON'T NEED THIS ANYMORE\n",
    "\n",
    "# # include external libraries\n",
    "# cppyy.add_include_path(\"/home/braden/syth/external/HighFive/include\")\n",
    "\n",
    "# # include syth tpls\n",
    "# def add_include_paths_recursively(directory):\n",
    "#     for path in Path(directory).rglob('*'):\n",
    "#         if path.is_dir():\n",
    "#             cppyy.add_include_path(str(path))\n",
    "\n",
    "# # Use the function to add all subdirectories of '~/syth_tpls'\n",
    "# add_include_paths_recursively('/home/braden/syth_tpls')"
   ]
  }
 ],
 "metadata": {
  "kernelspec": {
   "display_name": "test",
   "language": "python",
   "name": "python3"
  },
  "language_info": {
   "codemirror_mode": {
    "name": "ipython",
    "version": 3
   },
   "file_extension": ".py",
   "mimetype": "text/x-python",
   "name": "python",
   "nbconvert_exporter": "python",
   "pygments_lexer": "ipython3",
   "version": "3.12.1"
  },
  "polyglot_notebook": {
   "kernelInfo": {
    "defaultKernelName": "csharp",
    "items": [
     {
      "aliases": [],
      "name": "csharp"
     }
    ]
   }
  }
 },
 "nbformat": 4,
 "nbformat_minor": 2
}
